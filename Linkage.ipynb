{
  "nbformat": 4,
  "nbformat_minor": 0,
  "metadata": {
    "colab": {
      "name": "Linkage.ipynb",
      "provenance": [],
      "collapsed_sections": [],
      "authorship_tag": "ABX9TyNQbBqytST+qtwE+U1cpKbY",
      "include_colab_link": true
    },
    "kernelspec": {
      "name": "python3",
      "display_name": "Python 3"
    },
    "language_info": {
      "name": "python"
    }
  },
  "cells": [
    {
      "cell_type": "markdown",
      "metadata": {
        "id": "view-in-github",
        "colab_type": "text"
      },
      "source": [
        "<a href=\"https://colab.research.google.com/github/manhaesflavia/Estat-sticaEspacial/blob/main/Linkage.ipynb\" target=\"_parent\"><img src=\"https://colab.research.google.com/assets/colab-badge.svg\" alt=\"Open In Colab\"/></a>"
      ]
    },
    {
      "cell_type": "code",
      "execution_count": null,
      "metadata": {
        "id": "LhyBPxH5fWOT"
      },
      "outputs": [],
      "source": [
        "#---------- Bibliotecas Utilizadas\n",
        "import pandas as pd\n",
        "import numpy as np\n",
        "from scipy import stats as st\n",
        "import matplotlib.pyplot as plt\n",
        "import matplotlib.dates as mdates"
      ]
    },
    {
      "cell_type": "code",
      "source": [
        "# ---------- Função Soundex\n",
        "import unicodedata\n",
        "def soundex(s):\n",
        "\n",
        "    if not s:\n",
        "        return \"\"\n",
        "\n",
        "    s = unicodedata.normalize(\"NFKD\", s)\n",
        "    s = s.upper()\n",
        "\n",
        "    replacements = (\n",
        "        (\"BFPV\", \"1\"),\n",
        "        (\"CGJKQSXZ\", \"2\"),\n",
        "        (\"DT\", \"3\"),\n",
        "        (\"L\", \"4\"),\n",
        "        (\"MN\", \"5\"),\n",
        "        (\"R\", \"6\"),\n",
        "    )\n",
        "    result = [s[0]]\n",
        "    count = 1\n",
        "\n",
        "    for lset, sub in replacements:\n",
        "        if s[0] in lset:\n",
        "            last = sub\n",
        "            break\n",
        "    else:\n",
        "        last = None\n",
        "\n",
        "    for letter in s[1:]:\n",
        "        for lset, sub in replacements:\n",
        "            if letter in lset:\n",
        "                if sub != last:\n",
        "                    result.append(sub)\n",
        "                    count += 1\n",
        "                last = sub\n",
        "                break\n",
        "        else:\n",
        "            if letter != \"H\" and letter != \"W\":\n",
        "\n",
        "                last = None\n",
        "        if count == 20:\n",
        "            break\n",
        "\n",
        "    result += \"0\" * (20 - count)\n",
        "    return \"\".join(result)\n"
      ],
      "metadata": {
        "id": "r3Q-1ZEXf-UH"
      },
      "execution_count": null,
      "outputs": []
    },
    {
      "cell_type": "code",
      "source": [
        "# -------- Base Consolidada\n",
        "# ------------------Processos de blocagem e pareamento\n",
        "#-----Variáveis: \n",
        "#     nome do paciente\n",
        "#     nome da mãe\n",
        "#     ano de nascimento\n",
        "#     geocódigo do município de residência\n",
        "#     sexo\n",
        "\n",
        "# As variaveis devem estar com o mesmo nome em ambos os bancos de dados e ele vai fazendo filtros até encontrar uma linha\n",
        "# que tenha o mesmo nome apos aplicar o nome do paciente e o nome da mae a função soundex, o mesmo sexo, geocodigo\n",
        "# e ano de nascimento \n",
        "\n",
        "# verificar tipagem dos dados para ser a mesma\n",
        "\n",
        "# A função retorna a base consolidada\n",
        "def funcaoLinkage(df1:dict,df2:dict,vetorColunasDeInteresse:list,colunaLinkage1,colunaLinkage2):\n",
        "  # aplicando a função soundex\n",
        "  colunaLinkageDF1=[]\n",
        "  for j in range(len(df1[colunasLinkage1])):\n",
        "    colunaLinkageDF1.append(df1[colunasLinkage1].values(i))\n",
        "  # Atualizando o df1\n",
        "  df1[colunasLinkage1]=colunaLinkageDF1\n",
        "  colunaLinkageDF2\n",
        "  for i in range(len(df2[colunaLinkage2])):\n",
        "    colunaLinkageDF2.append(df2[colunaLinkage2].values(i))\n",
        "    colunaLinkageDF2.append(soundexcolunasLinkage[i])\n",
        "    df2[colunaLinkage2]=colunaLinkageDF2\n",
        "\n",
        "  baseComLinkage=pd.DataFrame()\n",
        "  baseComLinkage=pd.merge(df1,df2,on=vetorColunasDeInteresse)\n",
        "  return baseComLinkage"
      ],
      "metadata": {
        "id": "lLKRvQ4wgZ-O"
      },
      "execution_count": null,
      "outputs": []
    }
  ]
}